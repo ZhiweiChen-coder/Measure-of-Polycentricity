{
  "cells": [
    {
      "cell_type": "code",
      "source": [
        "# Population density data\n",
        "\n",
        "import numpy as np\n",
        "from scipy import stats\n",
        "import pandas as pd\n",
        "\n",
        "\n",
        "# Calculate population density\n",
        "population_density_data = [6977, 11058, 11371, 3597, 1954, 1554, 4111, 1302, 203, 457, 248, 191, 74]\n",
        "\n",
        "# Set desired significance level (e.g., 70%)\n",
        "significance_level = 0.30\n",
        "\n",
        "# Calculate degrees of freedom\n",
        "degrees_of_freedom = len(population_density_data) - 1\n",
        "\n",
        "# Calculate t-statistic critical value\n",
        "t_critical = stats.t.ppf(significance_level, degrees_of_freedom)\n",
        "\n",
        "# Find the threshold\n",
        "best_threshold = np.percentile(population_density_data, 100 * (1 - significance_level))\n",
        "\n",
        "print(f\"Best Threshold: {best_threshold}\")\n",
        "print(f\"T-statistic Critical Value: {t_critical}\")\n",
        "\n",
        "# Create a DataFrame\n",
        "df_density = pd.DataFrame({'Population_Density': population_density_data})\n",
        "\n",
        "# Identify city center based on the threshold\n",
        "df_density['City_Center'] = df_density['Population_Density'] > best_threshold\n",
        "\n",
        "# Display the DataFrame with city center classification\n",
        "print(\"\\nUpdated DataFrame with City Center Classification:\")\n",
        "print(df_density)\n",
        "\n",
        "# Select specific values from the dataset\n",
        "selected_values = df_density.loc[df_density['City_Center'], 'Population_Density'].tolist()\n",
        "\n",
        "print(f\"\\nSelected Values: {selected_values}\")\n",
        "\n",
        "# Calculate the standard deviation of the selected values\n",
        "s_density = np.std(selected_values)\n",
        "\n",
        "# Handle the case where standard deviation is 0\n",
        "if s_density == 0:\n",
        "    polycentricity = 0\n",
        "else:\n",
        "    # Select the highest value from the dataset\n",
        "    highest_value = df_density['Population_Density'].max(), 0\n",
        "\n",
        "    # Calculate standard deviation for the highest value\n",
        "    s_density_max = np.std(highest_value)\n",
        "\n",
        "    # Calculate polycentricity\n",
        "    polycentricity = 1 - s_density / s_density_max\n",
        "\n",
        "print(f\"\\nPolycentricity: {polycentricity}\")\n"
      ],
      "metadata": {
        "colab": {
          "base_uri": "https://localhost:8080/"
        },
        "id": "lxgnD2-lpEsk",
        "outputId": "994cb1f1-f060-4775-acd8-ceaa2767abbc"
      },
      "execution_count": null,
      "outputs": [
        {
          "output_type": "stream",
          "name": "stdout",
          "text": [
            "Best Threshold: 3802.5999999999995\n",
            "T-statistic Critical Value: -0.538617668201916\n",
            "\n",
            "Updated DataFrame with City Center Classification:\n",
            "    Population_Density  City_Center\n",
            "0                 6977         True\n",
            "1                11058         True\n",
            "2                11371         True\n",
            "3                 3597        False\n",
            "4                 1954        False\n",
            "5                 1554        False\n",
            "6                 4111         True\n",
            "7                 1302        False\n",
            "8                  203        False\n",
            "9                  457        False\n",
            "10                 248        False\n",
            "11                 191        False\n",
            "12                  74        False\n",
            "\n",
            "Selected Values: [6977, 11058, 11371, 4111]\n",
            "\n",
            "Polycentricity: 0.47007104354750695\n"
          ]
        }
      ]
    },
    {
      "cell_type": "code",
      "source": [],
      "metadata": {
        "id": "evtyw9L3ohDu"
      },
      "execution_count": null,
      "outputs": []
    },
    {
      "cell_type": "code",
      "source": [
        "# Factories data\n",
        "\n",
        "import numpy as np\n",
        "from scipy import stats\n",
        "import pandas as pd\n",
        "\n",
        "# Factory numbers data\n",
        "factory_numbers = [83, 18, 46, 39, 28]\n",
        "\n",
        "\n",
        "# Calculate population density (using factory numbers)\n",
        "population_density_data = factory_numbers\n",
        "\n",
        "# Set desired significance level (e.g., 70%)\n",
        "significance_level = 0.30\n",
        "\n",
        "# Calculate degrees of freedom\n",
        "degrees_of_freedom = len(population_density_data) - 1\n",
        "\n",
        "# Calculate t-statistic critical value\n",
        "t_critical = stats.t.ppf(significance_level, degrees_of_freedom)\n",
        "\n",
        "# Find the threshold\n",
        "best_threshold = np.percentile(population_density_data, 100 * (1 - significance_level))\n",
        "\n",
        "print(f\"Best Threshold: {best_threshold}\")\n",
        "print(f\"T-statistic Critical Value: {t_critical}\")\n",
        "\n",
        "# Create a DataFrame\n",
        "df_density = pd.DataFrame({'Population_Density': population_density_data})\n",
        "\n",
        "# Identify factory centers based on the threshold\n",
        "df_density['Factory_Center'] = df_density['Population_Density'] > best_threshold\n",
        "\n",
        "# Display the DataFrame with factory center classification\n",
        "print(\"\\nUpdated DataFrame with Factory Center Classification:\")\n",
        "print(df_density)\n",
        "\n",
        "# Select specific values from the dataset (factory centers)\n",
        "selected_values = df_density.loc[df_density['Factory_Center'], 'Population_Density'].tolist()\n",
        "\n",
        "print(f\"\\nSelected Values (Factory Centers): {selected_values}\")\n",
        "\n",
        "# Calculate the standard deviation of the selected values (factory centers)\n",
        "s_density = np.std(selected_values)\n",
        "\n",
        "# Handle the case where standard deviation is 0\n",
        "if s_density == 0:\n",
        "    polycentricity = 0\n",
        "else:\n",
        "    # Select the highest value from the dataset\n",
        "    highest_value = df_density['Population_Density'].max(), 0\n",
        "\n",
        "    # Calculate standard deviation for the highest value\n",
        "    s_density_max = np.std([highest_value])\n",
        "\n",
        "    # Calculate polycentricity\n",
        "    polycentricity = 1 - s_density / s_density_max\n",
        "\n",
        "print(f\"\\nPolycentricity: {polycentricity}\")\n"
      ],
      "metadata": {
        "colab": {
          "base_uri": "https://localhost:8080/"
        },
        "id": "dDLg-3XCFArN",
        "outputId": "c93bb151-2ef7-4439-be33-9f6f47fddcf4"
      },
      "execution_count": null,
      "outputs": [
        {
          "output_type": "stream",
          "name": "stdout",
          "text": [
            "Best Threshold: 44.6\n",
            "T-statistic Critical Value: -0.5686490630385523\n",
            "\n",
            "Updated DataFrame with Factory Center Classification:\n",
            "   Population_Density  Factory_Center\n",
            "0                  83            True\n",
            "1                  18           False\n",
            "2                  46            True\n",
            "3                  39           False\n",
            "4                  28           False\n",
            "\n",
            "Selected Values (Factory Centers): [83, 46]\n",
            "\n",
            "Polycentricity: 0.5542168674698795\n"
          ]
        }
      ]
    },
    {
      "cell_type": "code",
      "source": [
        "import numpy as np\n",
        "import matplotlib.pyplot as plt\n",
        "import seaborn as sns\n",
        "from scipy import stats\n",
        "\n",
        "# Given factory numbers\n",
        "population_density = [6977, 11058, 11371, 3597, 1954, 1554, 4111, 1302, 203, 457, 248, 191, 74]\n",
        "\n",
        "# Fit a normal distribution to the factory numbers\n",
        "mu, std = stats.norm.fit(population_density)\n",
        "\n",
        "# Plot the histogram\n",
        "plt.hist(population_density, bins=10, density=True, alpha=0.6, color='g')\n",
        "\n",
        "# Plot the PDF of the fitted normal distribution\n",
        "xmin, xmax = plt.xlim()\n",
        "x = np.linspace(xmin, xmax, 100)\n",
        "p = stats.norm.pdf(x, mu, std)\n",
        "\n",
        "sns.lineplot(x=x, y=p, color='blue', label='Fit')\n",
        "plt.xlabel('Factory Numbers')\n",
        "plt.ylabel('Density')\n",
        "plt.title('Normal Distribution Fit to Factory Numbers')\n",
        "plt.legend()\n",
        "\n",
        "plt.show()\n"
      ],
      "metadata": {
        "id": "f2X2Z52Ti70E",
        "colab": {
          "base_uri": "https://localhost:8080/",
          "height": 472
        },
        "outputId": "dd3154f1-5439-476c-c5f8-c25cb956dc5e"
      },
      "execution_count": null,
      "outputs": [
        {
          "output_type": "display_data",
          "data": {
            "text/plain": [
              "<Figure size 640x480 with 1 Axes>"
            ],
            "image/png": "[encoded data removed]"
          },
          "metadata": {}
        }
      ]
    }
  ],
  "metadata": {
    "colab": {
      "provenance": []
    },
    "kernelspec": {
      "display_name": "Python 3",
      "name": "python3"
    },
    "language_info": {
      "name": "python"
    }
  },
  "nbformat": 4,
  "nbformat_minor": 0
}